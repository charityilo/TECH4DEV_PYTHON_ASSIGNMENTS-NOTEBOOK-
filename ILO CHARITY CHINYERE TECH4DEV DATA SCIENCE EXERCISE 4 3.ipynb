{
 "cells": [
  {
   "cell_type": "code",
   "execution_count": null,
   "id": "04aed13c",
   "metadata": {},
   "outputs": [],
   "source": [
    "#Write a program to produce the following output using for loop\n",
    "#+----+\n",
    "#\\ /\n",
    "#/ \\\n",
    "#\\ /\n",
    "#/ \\\n",
    "#\\ /\n",
    "#/ \\\n",
    "#+----+"
   ]
  },
  {
   "cell_type": "code",
   "execution_count": 2,
   "id": "15be2a95",
   "metadata": {},
   "outputs": [
    {
     "name": "stdout",
     "output_type": "stream",
     "text": [
      "+----+\n",
      "\\ /\n",
      "/ \\\n",
      "\\ /\n",
      "/ \\\n",
      "\\ /\n",
      "/ \\\n",
      "\\ /\n",
      "/ \\\n",
      "+----+\n"
     ]
    }
   ],
   "source": [
    "#As a function Method 1\n",
    "def diagram():\n",
    "    print(\"+----+\")\n",
    "    for i in range(4):\n",
    "        print(\"\\\\ /\")\n",
    "        print(\"/ \\\\\")\n",
    "     \n",
    "    print(\"+----+\")\n",
    "    return\n",
    "    \n",
    "#testing the program\n",
    "\n",
    "diagram()"
   ]
  },
  {
   "cell_type": "code",
   "execution_count": 3,
   "id": "9d7b16f0",
   "metadata": {},
   "outputs": [
    {
     "name": "stdout",
     "output_type": "stream",
     "text": [
      "+----+\n",
      "\\ /\n",
      "/ \\\n",
      "\\ /\n",
      "/ \\\n",
      "\\ /\n",
      "/ \\\n",
      "\\ /\n",
      "/ \\\n",
      "+----+\n"
     ]
    }
   ],
   "source": [
    "# method 2 \n",
    "\n",
    "# Top portion\n",
    "print(\"+----+\")\n",
    "\n",
    "# Middle area \n",
    "for i in range(4):\n",
    "    print(\"\\\\ /\")\n",
    "    print(\"/ \\\\\")\n",
    "\n",
    "# Bottom portion\n",
    "print(\"+----+\")\n",
    "\n",
    "                "
   ]
  },
  {
   "cell_type": "code",
   "execution_count": null,
   "id": "ff398a06",
   "metadata": {},
   "outputs": [],
   "source": [
    "#Write a program to produce the following output using for loop\n",
    "#**********\n",
    "#**********\n",
    "#**********\n",
    "#**********\n",
    "#**********"
   ]
  },
  {
   "cell_type": "code",
   "execution_count": 4,
   "id": "9fedb1b9",
   "metadata": {},
   "outputs": [
    {
     "name": "stdout",
     "output_type": "stream",
     "text": [
      "**********\n",
      "**********\n",
      "**********\n",
      "**********\n",
      "**********\n"
     ]
    }
   ],
   "source": [
    "# method\n",
    "for i in range(5):\n",
    "    for j in range(10):\n",
    "        print(\"*\", end=\"\")\n",
    "    \n",
    "    print() "
   ]
  },
  {
   "cell_type": "code",
   "execution_count": null,
   "id": "4318d398",
   "metadata": {},
   "outputs": [],
   "source": [
    "#Complete the code for the following for loop:\n",
    "#for in range(1,7):\n",
    "#//your code here\n",
    "#so that it prints the following numbers, one per line:"
   ]
  },
  {
   "cell_type": "code",
   "execution_count": 5,
   "id": "ed9d15ea",
   "metadata": {},
   "outputs": [
    {
     "name": "stdout",
     "output_type": "stream",
     "text": [
      "1\n",
      "2\n",
      "3\n",
      "4\n",
      "5\n",
      "6\n",
      "\n",
      "2\n",
      "4\n",
      "6\n",
      "8\n",
      "10\n",
      "12\n",
      "\n",
      "4\n",
      "19\n",
      "34\n",
      "49\n",
      "64\n",
      "79\n",
      "\n",
      "30\n",
      "20\n",
      "10\n",
      "0\n",
      "-10\n",
      "-20\n",
      "\n",
      "-7\n",
      "-3\n",
      "1\n",
      "5\n",
      "9\n",
      "13\n",
      "\n",
      "97\n",
      "94\n",
      "91\n",
      "88\n",
      "85\n",
      "82\n",
      "\n",
      "-4\n",
      "14\n",
      "32\n",
      "50\n",
      "68\n",
      "86\n"
     ]
    }
   ],
   "source": [
    "for a in range(1,7):\n",
    "    print(a)\n",
    " \n",
    "print()\n",
    "for b in range (1,7):\n",
    "    print(b * 2)\n",
    "    \n",
    "print()\n",
    "for c in range(1, 7):\n",
    "    print(4 + 15 * (c - 1))\n",
    "    \n",
    "print()\n",
    "for d in range(1, 7):\n",
    "    print(40 - 10 * d)\n",
    "    \n",
    "print()\n",
    "for e in range(1, 7):\n",
    "    print(-7 + (e-1) * 4)\n",
    "\n",
    "print()\n",
    "for f in range(1, 7):\n",
    "    print(97 - 3 * (f-1))\n",
    "    \n",
    "print()\n",
    "for g in range(1, 7):\n",
    "    print(-4 + (g -1) * 18)\n",
    "\n",
    "    "
   ]
  },
  {
   "cell_type": "code",
   "execution_count": null,
   "id": "72ea6d89",
   "metadata": {},
   "outputs": [],
   "source": [
    "#Write a program to produce the following output using for loops. Then use a class constant to make it possible to change the \n",
    "#number of lines in the figure.\n",
    "#1\n",
    "#22\n",
    "#333\n",
    "#4444\n",
    "#55555\n",
    "#666666\n",
    "#7777777"
   ]
  },
  {
   "cell_type": "code",
   "execution_count": 6,
   "id": "c12b6b46",
   "metadata": {},
   "outputs": [
    {
     "name": "stdout",
     "output_type": "stream",
     "text": [
      "1\n",
      "22\n",
      "333\n",
      "4444\n",
      "55555\n",
      "666666\n",
      "7777777\n"
     ]
    }
   ],
   "source": [
    "class numberlines:\n",
    "    lines =7    # constant\n",
    "    \n",
    "    def number_pyramid(pyramid):\n",
    "        for i in range(1,pyramid.lines + 1):\n",
    "            print(str(i) * i)\n",
    "        return\n",
    "    \n",
    "#trying out the program\n",
    "\n",
    "PYRAMID = numberlines()\n",
    "PYRAMID.number_pyramid()"
   ]
  },
  {
   "cell_type": "code",
   "execution_count": null,
   "id": "77120ac7",
   "metadata": {},
   "outputs": [],
   "source": [
    "#Write a method named pay that accepts two parameters: a real number for a TA's salary, and an integer for the number of hours \n",
    "#the TA worked this week. The method should return how much money to pay the TA. For example, the call pay(5.50, 6)\n",
    "#should return 33.0. The TA should receive \"overtime\" pay of 1 ½ normal salary for any hours above 8. For example, the call \n",
    "#pay(4.00, 11) should return (4.00 * 8) + (6.00 * 3) or 50.0. "
   ]
  },
  {
   "cell_type": "code",
   "execution_count": 7,
   "id": "7736f65a",
   "metadata": {},
   "outputs": [
    {
     "data": {
      "text/plain": [
       "50.0"
      ]
     },
     "execution_count": 7,
     "metadata": {},
     "output_type": "execute_result"
    }
   ],
   "source": [
    "#name of method\n",
    "\n",
    "def pay(salary_rate, hours_worked):\n",
    "    \n",
    "#body of method\n",
    "\n",
    "    normal_hours = 8\n",
    "    overtime_rate = 1.5\n",
    "\n",
    "    if hours_worked <= normal_hours:\n",
    "        total_pay = salary_rate * hours_worked\n",
    "    else:\n",
    "        normal_pay = salary_rate * normal_hours\n",
    "        overtime_pay = salary_rate * overtime_rate * (hours_worked - normal_hours)\n",
    "        total_pay = normal_pay + overtime_pay\n",
    "\n",
    "    return total_pay\n",
    "\n",
    "# trying the program\n",
    "\n",
    "pay(5.50, 6)\n",
    "\n",
    "pay(4.00, 11)\n"
   ]
  },
  {
   "cell_type": "code",
   "execution_count": null,
   "id": "7877c70e",
   "metadata": {},
   "outputs": [],
   "source": [
    "# Write a similar method named area that takes as a parameter the radius of a circle and that returns the area of the circle.\n",
    "# Recall that area can be computed as π times the radius squared and that Python has a constant called math.pi"
   ]
  },
  {
   "cell_type": "code",
   "execution_count": 8,
   "id": "99bfe09e",
   "metadata": {},
   "outputs": [
    {
     "data": {
      "text/plain": [
       "12.566370614359172"
      ]
     },
     "execution_count": 8,
     "metadata": {},
     "output_type": "execute_result"
    }
   ],
   "source": [
    "import math  #This brings in the maths module to enable the mth.pi (a constant for pi) to be activated\n",
    "\n",
    "# this is the function proper\n",
    "def area_of_circle(radius):\n",
    "    return math.pi * radius**2\n",
    "\n",
    "# trying the program\n",
    "area_of_circle(2.0)"
   ]
  },
  {
   "cell_type": "code",
   "execution_count": null,
   "id": "bbaef73e",
   "metadata": {},
   "outputs": [],
   "source": [
    "# Modify the code to use a input to prompt the user for the values of low and high. Below is a sample execution in which the \n",
    "#user asks for the same values as in the original program (1 through 1000):\n",
    "#low? 1\n",
    "#high? 1001\n",
    "#sum = 500500"
   ]
  },
  {
   "cell_type": "code",
   "execution_count": 9,
   "id": "a0503cc6",
   "metadata": {},
   "outputs": [
    {
     "name": "stdout",
     "output_type": "stream",
     "text": [
      "low? 1\n",
      "high? 1001\n",
      "sum = 500500\n"
     ]
    }
   ],
   "source": [
    "low = int(input(\"low? \"))\n",
    "high = int(input(\"high? \"))\n",
    "sum  = 0\n",
    "\n",
    "for j in range(low, high):\n",
    "    sum += j\n",
    "\n",
    "print(\"sum =\", sum)\n"
   ]
  },
  {
   "cell_type": "code",
   "execution_count": null,
   "id": "6a56c6a5",
   "metadata": {},
   "outputs": [],
   "source": [
    "# Write a program using while loop that prompts the user for numbers until the user types 0, then outputs their sum."
   ]
  },
  {
   "cell_type": "code",
   "execution_count": 10,
   "id": "1db92770",
   "metadata": {},
   "outputs": [
    {
     "name": "stdout",
     "output_type": "stream",
     "text": [
      "Enter a number (note that typing 0 ends the sequence)6\n",
      "Enter another number (note that typing 0 ends the sequence)8\n",
      "sum of entered values is 6.0\n",
      "Enter another number (note that typing 0 ends the sequence)4\n",
      "sum of entered values is 14.0\n",
      "Enter another number (note that typing 0 ends the sequence)9\n",
      "sum of entered values is 18.0\n",
      "Enter another number (note that typing 0 ends the sequence)0\n",
      "sum of entered values is 27.0\n"
     ]
    }
   ],
   "source": [
    "sum_of_num = 0\n",
    "user_num = float(input(\"Enter a number (note that typing 0 ends the sequence)\"))\n",
    "\n",
    "while user_num != 0:\n",
    "    sum_of_num += user_num\n",
    "    user_num = float(input(\"Enter another number (note that typing 0 ends the sequence)\"))\n",
    "    \n",
    "    print(\"sum of entered values is\", sum_of_num)\n"
   ]
  },
  {
   "cell_type": "code",
   "execution_count": null,
   "id": "564be054",
   "metadata": {},
   "outputs": [],
   "source": [
    "# Write a program using while loop that prompts the user for numbers until the user types -1, then outputs their sum."
   ]
  },
  {
   "cell_type": "code",
   "execution_count": 11,
   "id": "e162b6a5",
   "metadata": {},
   "outputs": [
    {
     "name": "stdout",
     "output_type": "stream",
     "text": [
      "Enter a number (note that typing -1 ends the sequence)7\n",
      "Enter another number (note that typing -1 ends the sequence)8\n",
      "sum of entered values is 7.0\n",
      "Enter another number (note that typing -1 ends the sequence)2\n",
      "sum of entered values is 15.0\n",
      "Enter another number (note that typing -1 ends the sequence)-4\n",
      "sum of entered values is 17.0\n",
      "Enter another number (note that typing -1 ends the sequence)-1\n",
      "sum of entered values is 13.0\n"
     ]
    }
   ],
   "source": [
    "sum_of_num = 0\n",
    "user_num = float(input(\"Enter a number (note that typing -1 ends the sequence)\"))\n",
    "\n",
    "while user_num != -1:\n",
    "    sum_of_num += user_num\n",
    "    user_num = float(input(\"Enter another number (note that typing -1 ends the sequence)\"))\n",
    "    \n",
    "    print(\"sum of entered values is\", sum_of_num)"
   ]
  },
  {
   "cell_type": "code",
   "execution_count": null,
   "id": "929a9f27",
   "metadata": {},
   "outputs": [],
   "source": [
    "#Write a method named repl that accepts a String and a number of repetitions as parameters and returns the String concatenated \n",
    "#that many times. For example, the call repl(\"hello\", 3) returns \"hellohellohello\". If the number of repetitions is 0 or less, \n",
    "#an empty string is returned."
   ]
  },
  {
   "cell_type": "code",
   "execution_count": 13,
   "id": "3394d1e1",
   "metadata": {},
   "outputs": [
    {
     "data": {
      "text/plain": [
       "'hehe'"
      ]
     },
     "execution_count": 13,
     "metadata": {},
     "output_type": "execute_result"
    }
   ],
   "source": [
    "def repl(string, num_repl):\n",
    "    if num_repl <= 0:\n",
    "        return \" \"\n",
    "    else:\n",
    "        return string * num_repl\n",
    "    \n",
    "#trying out the program\n",
    "\n",
    "repl(\"he\",2)\n",
    "        "
   ]
  },
  {
   "cell_type": "code",
   "execution_count": null,
   "id": "c5c8ff83",
   "metadata": {},
   "outputs": [],
   "source": [
    "#Write a method called printRange that accepts two integers as arguments and prints the sequence of numbers between the two \n",
    "#arguments, separated by spaces. Print an increasing sequence if the first argument is smaller than the second; otherwise, print\n",
    "#a decreasing sequence. If the two numbers are the same, that number should be printed by itself. Here are some sample calls to \n",
    "#printRange: \n",
    "#printRange(2, 7)\n",
    "#printRange(19, 11)\n",
    "#printRange(5, 5)"
   ]
  },
  {
   "cell_type": "code",
   "execution_count": 14,
   "id": "d207d2fc",
   "metadata": {},
   "outputs": [
    {
     "name": "stdout",
     "output_type": "stream",
     "text": [
      "2345672\n",
      "19181716151413121119\n",
      "5\n"
     ]
    }
   ],
   "source": [
    "def printRange(num1,num2):\n",
    "  \n",
    "# for increasing sequence when num1 is less than num2\n",
    "    if num1 < num2:\n",
    "        for a in range(num1,num2+1):\n",
    "            print(a, end=\"\")\n",
    "            \n",
    "# for decreasing sequence when num1 is larger than num2\n",
    "\n",
    "    elif num1 > num2:\n",
    "        for a in range(num1, num2 -1,-1):\n",
    "            print(a, sep= \" \", end=\"\")\n",
    "            \n",
    "# for single number output when num1 = num 2\n",
    "    \n",
    "    else: num1 = num2\n",
    "    print (num1)\n",
    "    \n",
    "    \n",
    " # trying out the program\n",
    "\n",
    "printRange(2,7)\n",
    "printRange(19,11)\n",
    "printRange(5,5)  "
   ]
  },
  {
   "cell_type": "code",
   "execution_count": null,
   "id": "dded36b2",
   "metadata": {},
   "outputs": [],
   "source": [
    "#Write a method named smallestLargest that asks the user to enter numbers, then prints the smallest and largest of all the numbers typed in by the \n",
    "#user. You may assume the user enters a valid number greater than 0 for the number of numbers to read. Here is an example dialogue: \n",
    "#How many numbers do you want to enter? 4\n",
    "#Number 1: 5\n",
    "#Number 2: 11\n",
    "#Number 3: -2\n",
    "#Number 4: 3\n",
    "#Smallest = -2\n",
    "#Largest = 11"
   ]
  },
  {
   "cell_type": "code",
   "execution_count": 15,
   "id": "d5b05af9",
   "metadata": {},
   "outputs": [
    {
     "name": "stdout",
     "output_type": "stream",
     "text": [
      "How many numbers do you want to enter? 4\n",
      "Number 1: 5\n",
      "Number 2: 3\n",
      "Number 3: 11\n",
      "Number 4: -2\n",
      "Smallest = -2.0\n",
      "Largest = 11.0\n"
     ]
    }
   ],
   "source": [
    "def smallestLargest():\n",
    "    count = int(input(\"How many numbers do you want to enter? \"))\n",
    "\n",
    "    if count > 0:\n",
    "        num_list = []\n",
    "        for i in range(1, count + 1):\n",
    "            num = float(input(f\"Number {i}: \"))\n",
    "            num_list.append(num)\n",
    "\n",
    "        smallest = min(num_list)\n",
    "        largest = max(num_list)\n",
    "\n",
    "        print(f\"Smallest = {smallest}\")\n",
    "        print(f\"Largest = {largest}\")\n",
    "    else:\n",
    "        print(\"Please enter a valid number greater than 0 for the count.\")\n",
    "\n",
    "# trying the code\n",
    "smallestLargest()\n"
   ]
  },
  {
   "cell_type": "code",
   "execution_count": null,
   "id": "af4d687d",
   "metadata": {},
   "outputs": [],
   "source": [
    "#Write a method called printAverage that uses a sentinel loop to repeatedly prompt the user for numbers. Once the user types any number \n",
    "#less than zero, the method should display the average of all nonnegative numbers typed. Display the average as a double. \n",
    "#Here is a sample dialogue with the user:\n",
    "#Type a number: 7\n",
    "#Type a number: 4\n",
    "#Type a number: 16\n",
    "#Type a number: –4\n",
    "#Average was 9.0\n",
    "#If the first number that the user types is negative, do not print an average:Type a number: –2"
   ]
  },
  {
   "cell_type": "code",
   "execution_count": 16,
   "id": "d79c1f94",
   "metadata": {},
   "outputs": [
    {
     "name": "stdout",
     "output_type": "stream",
     "text": [
      "Type a number: note that a negative number breakes the sequence6\n",
      "Type a number: note that a negative number breakes the sequence3\n",
      "Type a number: note that a negative number breakes the sequence8\n",
      "Type a number: note that a negative number breakes the sequence-6\n",
      "Average was 5.666666666666667\n"
     ]
    }
   ],
   "source": [
    "def printAverage():\n",
    "    sum = 0\n",
    "    count = 0\n",
    "\n",
    "    while True:\n",
    "        num = float(input(\"Type a number: note that a negative number breakes the sequence\"))\n",
    "        \n",
    "        if num < 0:\n",
    "            break  # Break the loop if a negative number is entered\n",
    "        \n",
    "        sum += num\n",
    "        count += 1\n",
    "\n",
    "    if count > 0:\n",
    "        average = sum / count\n",
    "        print(\"Average was\", average)\n",
    "    else:\n",
    "        print(\"No nonnegative numbers were entered.\")\n",
    "\n",
    "# trying the code\n",
    "printAverage()"
   ]
  },
  {
   "cell_type": "code",
   "execution_count": null,
   "id": "e10cfc64",
   "metadata": {},
   "outputs": [],
   "source": [
    "#Write a method named numUnique that takes three integers as parameters and returns the number of unique integers among the \n",
    "#three. For example, the call numUnique(18, 3, 4) should return 3 because the parameters have three different values.By \n",
    "#the call numUnique(6, 7, 6)should return 2 because there are only two unique numbers among the three parameters: 6 and 7."
   ]
  },
  {
   "cell_type": "code",
   "execution_count": 18,
   "id": "f6e1c513",
   "metadata": {},
   "outputs": [
    {
     "name": "stdout",
     "output_type": "stream",
     "text": [
      "3\n",
      "2\n"
     ]
    }
   ],
   "source": [
    "def numUnique(num1, num2, num3):\n",
    "    unique_numbers = len(set([num1, num2, num3]))\n",
    "    return unique_numbers\n",
    "\n",
    "#trying out the code\n",
    "\n",
    "result1 = numUnique(18, 3, 4)\n",
    "print(result1)  \n",
    "\n",
    "result2 = numUnique(6, 7, 6)\n",
    "print(result2)  \n"
   ]
  },
  {
   "cell_type": "code",
   "execution_count": null,
   "id": "cd4ffd1b",
   "metadata": {},
   "outputs": [],
   "source": [
    "#A Random object generates pseudo-random numbers. Find out how to use the Random class and write a program that simulates \n",
    "#rolling of two 6-sided dice until their combined result comes up as 7. One possible output can be seen as below:\n",
    "#2 + 4 = 6\n",
    "#3 + 5 = 8\n",
    "#5 + 6 = 11\n",
    "#1 + 1 = 2\n",
    "#4 + 3 = 7\n",
    "#You won after 5 tries!"
   ]
  },
  {
   "cell_type": "code",
   "execution_count": 19,
   "id": "2d0bc0ad",
   "metadata": {},
   "outputs": [
    {
     "name": "stdout",
     "output_type": "stream",
     "text": [
      "5 + 5 = 10\n",
      "5 + 4 = 9\n",
      "2 + 3 = 5\n",
      "4 + 4 = 8\n",
      "2 + 1 = 3\n",
      "6 + 1 = 7\n",
      "You won after 6 tries!\n"
     ]
    }
   ],
   "source": [
    "import random\n",
    "\n",
    "def rolls_stimulator():\n",
    "    random_generator = random.Random()\n",
    "    total_rolls = 0\n",
    "\n",
    "    while True:\n",
    "        die1 = random_generator.randint(1, 6)\n",
    "        die2 = random_generator.randint(1, 6)\n",
    "        total = die1 + die2\n",
    "\n",
    "        print(die1, \"+\", die2, \"=\", total)\n",
    "\n",
    "        total_rolls += 1\n",
    "\n",
    "        if total == 7:\n",
    "            break\n",
    "\n",
    "    print(\"You won after\" ,total_rolls, \"tries!\")\n",
    "\n",
    "# trying out the code\n",
    "rolls_stimulator()"
   ]
  },
  {
   "cell_type": "code",
   "execution_count": null,
   "id": "10edf069",
   "metadata": {},
   "outputs": [],
   "source": []
  }
 ],
 "metadata": {
  "kernelspec": {
   "display_name": "Python 3 (ipykernel)",
   "language": "python",
   "name": "python3"
  },
  "language_info": {
   "codemirror_mode": {
    "name": "ipython",
    "version": 3
   },
   "file_extension": ".py",
   "mimetype": "text/x-python",
   "name": "python",
   "nbconvert_exporter": "python",
   "pygments_lexer": "ipython3",
   "version": "3.11.5"
  }
 },
 "nbformat": 4,
 "nbformat_minor": 5
}
