{
 "cells": [
  {
   "cell_type": "code",
   "execution_count": 3,
   "id": "644a489f",
   "metadata": {},
   "outputs": [
    {
     "name": "stdout",
     "output_type": "stream",
     "text": [
      "1\n",
      "2\n",
      "3\n",
      "4\n",
      "5\n",
      "6\n",
      "7\n",
      "8\n",
      "9\n",
      "10\n"
     ]
    }
   ],
   "source": [
    "#print the first 10 natural numbers\n",
    "\n",
    "for num in range(1,11):\n",
    "    print(num)"
   ]
  },
  {
   "cell_type": "code",
   "execution_count": 4,
   "id": "e1a966de",
   "metadata": {},
   "outputs": [
    {
     "name": "stdout",
     "output_type": "stream",
     "text": [
      "====The First 10 Natural Numbers====\n"
     ]
    }
   ],
   "source": [
    "print(\"====The First 10 Natural Numbers====\")"
   ]
  },
  {
   "cell_type": "code",
   "execution_count": 5,
   "id": "aa341817",
   "metadata": {},
   "outputs": [
    {
     "name": "stdout",
     "output_type": "stream",
     "text": [
      "enter a number678999\n",
      "6\n"
     ]
    }
   ],
   "source": [
    "# write a program that will count the number of digit in a number\n",
    "\n",
    "num = int(input(\"enter a number\"))  # request for a value\n",
    "str_num = str(num)                  # converts the number gto a string\n",
    "counter = len(str_num)              # gives the number of digits in the stringed number\n",
    "\n",
    "print(counter)                      # prints the count"
   ]
  },
  {
   "cell_type": "code",
   "execution_count": 6,
   "id": "e5b36104",
   "metadata": {},
   "outputs": [
    {
     "name": "stdout",
     "output_type": "stream",
     "text": [
      "enter a number8880\n"
     ]
    },
    {
     "data": {
      "text/plain": [
       "4"
      ]
     },
     "execution_count": 6,
     "metadata": {},
     "output_type": "execute_result"
    }
   ],
   "source": [
    "# method 2 as a function\n",
    "\n",
    "def digit_counter():\n",
    "    num = int(input(\"enter a number\"))    # request for a value\n",
    "    str_num = str(num)                    # converts the number gto a string\n",
    "    counter = len(str_num)                # gives the number of digits in the stringed number\n",
    "    \n",
    "    return(counter)                       # returns  the count value\n",
    "\n",
    "\n",
    "# testing the code\n",
    "digit_counter()"
   ]
  },
  {
   "cell_type": "code",
   "execution_count": null,
   "id": "65007138",
   "metadata": {},
   "outputs": [],
   "source": [
    "#write a program to display all the prime number within a range"
   ]
  },
  {
   "cell_type": "code",
   "execution_count": 7,
   "id": "ccd78ed5",
   "metadata": {},
   "outputs": [
    {
     "name": "stdout",
     "output_type": "stream",
     "text": [
      "Prime numbers between 3 and 21 :\n",
      "3\n",
      "5\n",
      "7\n",
      "11\n",
      "13\n",
      "17\n",
      "19\n"
     ]
    }
   ],
   "source": [
    "def prime(num):\n",
    "    if num < 2:         #numbers less than 2 are not prime numbers\n",
    "        return False\n",
    "    \n",
    "    for i in range(2, int(num**0.5) + 1):  # range from 2 and the squareroot of the inputed number\n",
    "        if num % i == 0:\n",
    "            return False\n",
    "        \n",
    "    return True\n",
    "\n",
    "def primeRange(num1, num2):\n",
    "    print(\"Prime numbers between\", num1, \"and\" , num2,\":\")\n",
    "    for num in range(num1, num2 + 1):\n",
    "        if prime(num):\n",
    "            print(num)\n",
    "\n",
    "primeRange(3,21)"
   ]
  },
  {
   "cell_type": "code",
   "execution_count": 2,
   "id": "c9ef0406",
   "metadata": {},
   "outputs": [
    {
     "name": "stdout",
     "output_type": "stream",
     "text": [
      "enter a number to generate its mutltplication table: 7\n",
      "Enter the highest multiplier20\n",
      "1 * 7 = 7\n",
      "2 * 7 = 14\n",
      "3 * 7 = 21\n",
      "4 * 7 = 28\n",
      "5 * 7 = 35\n",
      "6 * 7 = 42\n",
      "7 * 7 = 49\n",
      "8 * 7 = 56\n",
      "9 * 7 = 63\n",
      "10 * 7 = 70\n",
      "11 * 7 = 77\n",
      "12 * 7 = 84\n",
      "13 * 7 = 91\n",
      "14 * 7 = 98\n",
      "15 * 7 = 105\n",
      "16 * 7 = 112\n",
      "17 * 7 = 119\n",
      "18 * 7 = 126\n",
      "19 * 7 = 133\n",
      "20 * 7 = 140\n"
     ]
    }
   ],
   "source": [
    "# write a program to print a multiplication table of a given number\n",
    "\n",
    "number = int(input(\"enter a number to generate its mutltplication table: \"))\n",
    "    \n",
    "for i in range (1, int(input(\"Enter the highest multiplier\")) + 1):\n",
    "    multi = i * number\n",
    "        \n",
    "    print(i, \"*\", number, \"=\",multi)"
   ]
  },
  {
   "cell_type": "code",
   "execution_count": 11,
   "id": "d5a67216",
   "metadata": {},
   "outputs": [
    {
     "name": "stdout",
     "output_type": "stream",
     "text": [
      "enter a number to generate its mutltplication table: 7\n",
      "Enter the highest multiplier20\n",
      "1 * 7 = 7\n",
      "2 * 7 = 14\n",
      "3 * 7 = 21\n",
      "4 * 7 = 28\n",
      "5 * 7 = 35\n",
      "6 * 7 = 42\n",
      "7 * 7 = 49\n",
      "8 * 7 = 56\n",
      "9 * 7 = 63\n",
      "10 * 7 = 70\n",
      "11 * 7 = 77\n",
      "12 * 7 = 84\n",
      "13 * 7 = 91\n",
      "14 * 7 = 98\n",
      "15 * 7 = 105\n",
      "16 * 7 = 112\n",
      "17 * 7 = 119\n",
      "18 * 7 = 126\n",
      "19 * 7 = 133\n",
      "20 * 7 = 140\n"
     ]
    }
   ],
   "source": [
    "#method 2\n",
    " \n",
    "def multiplication_table():\n",
    "    number = int(input(\"enter a number to generate its mutltplication table: \"))\n",
    "    \n",
    "    for i in range (1, int(input(\"Enter the highest multiplier\")) + 1):\n",
    "        multi = i * number\n",
    "        \n",
    "        print(i, \"*\", number, \"=\",multi)\n",
    "        \n",
    "\n",
    "# testing code\n",
    "multiplication_table()\n",
    "        \n"
   ]
  },
  {
   "cell_type": "code",
   "execution_count": null,
   "id": "94d3f212",
   "metadata": {},
   "outputs": [],
   "source": []
  }
 ],
 "metadata": {
  "kernelspec": {
   "display_name": "Python 3 (ipykernel)",
   "language": "python",
   "name": "python3"
  },
  "language_info": {
   "codemirror_mode": {
    "name": "ipython",
    "version": 3
   },
   "file_extension": ".py",
   "mimetype": "text/x-python",
   "name": "python",
   "nbconvert_exporter": "python",
   "pygments_lexer": "ipython3",
   "version": "3.11.5"
  }
 },
 "nbformat": 4,
 "nbformat_minor": 5
}
