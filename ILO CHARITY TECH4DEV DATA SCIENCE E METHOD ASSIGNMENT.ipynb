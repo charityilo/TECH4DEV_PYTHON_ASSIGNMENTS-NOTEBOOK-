{
 "cells": [
  {
   "cell_type": "markdown",
   "id": "e33d7b10",
   "metadata": {},
   "source": [
    "# write 20 methods that are used in python with examples"
   ]
  },
  {
   "cell_type": "code",
   "execution_count": 4,
   "id": "14afa8a7",
   "metadata": {},
   "outputs": [
    {
     "name": "stdout",
     "output_type": "stream",
     "text": [
      "[4, 8, 12, 16]\n"
     ]
    }
   ],
   "source": [
    "#append() - Adds an element to the end of the list.\n",
    "\n",
    "#Example code\n",
    "\n",
    "my_list = [4, 8, 12]\n",
    "my_list.append(16)\n",
    "print(my_list)  "
   ]
  },
  {
   "cell_type": "code",
   "execution_count": 5,
   "id": "f7af94f1",
   "metadata": {},
   "outputs": [
    {
     "name": "stdout",
     "output_type": "stream",
     "text": [
      "16\n"
     ]
    }
   ],
   "source": [
    "#pop() - Removes and returns the last element from the list.\n",
    "\n",
    "# Example code\n",
    "\n",
    "my_list = [4, 8, 12, 16]\n",
    "last_element = my_list.pop()\n",
    "print(last_element)"
   ]
  },
  {
   "cell_type": "code",
   "execution_count": 3,
   "id": "7c0889e0",
   "metadata": {},
   "outputs": [
    {
     "name": "stdout",
     "output_type": "stream",
     "text": [
      "[1, 1, 4, 4, 7, 9, 11]\n"
     ]
    }
   ],
   "source": [
    "#sort() - Sorts the list in ascending order.\n",
    "\n",
    "# Example code\n",
    "\n",
    "numbers = [7, 1, 4, 1, 4, 9, 11]\n",
    "numbers.sort()\n",
    "print(numbers) "
   ]
  },
  {
   "cell_type": "code",
   "execution_count": 6,
   "id": "6e8efe3b",
   "metadata": {},
   "outputs": [
    {
     "name": "stdout",
     "output_type": "stream",
     "text": [
      "[16, 12, 8, 4]\n"
     ]
    }
   ],
   "source": [
    "#reverse() - Reverses the order of elements in the list.\n",
    "\n",
    "# Example code\n",
    "\n",
    "my_list = [4, 8, 12, 16]\n",
    "my_list.reverse()\n",
    "print(my_list)"
   ]
  },
  {
   "cell_type": "code",
   "execution_count": 7,
   "id": "73b485ca",
   "metadata": {},
   "outputs": [
    {
     "name": "stdout",
     "output_type": "stream",
     "text": [
      "['Hello', 'World']\n"
     ]
    }
   ],
   "source": [
    "#split() - Splits a string into a list based on a specified delimiter.\n",
    "\n",
    "#Example code\n",
    "\n",
    "sentence = 'Hello World'\n",
    "words = sentence.split()\n",
    "print(words)"
   ]
  },
  {
   "cell_type": "code",
   "execution_count": 8,
   "id": "4add2666",
   "metadata": {},
   "outputs": [
    {
     "name": "stdout",
     "output_type": "stream",
     "text": [
      "Charity\n"
     ]
    }
   ],
   "source": [
    "#capitalize() - Converts the first character of a string to uppercase.\n",
    "\n",
    "# Example code\n",
    "\n",
    "word = 'charity'\n",
    "capitalized_word = word.capitalize()\n",
    "print(capitalized_word)"
   ]
  },
  {
   "cell_type": "code",
   "execution_count": 16,
   "id": "0d76c444",
   "metadata": {},
   "outputs": [
    {
     "name": "stdout",
     "output_type": "stream",
     "text": [
      "1\n"
     ]
    }
   ],
   "source": [
    "#index() - Returns the index of the first occurrence of a value in an object eg list, tuple.\n",
    "\n",
    "# Example code\n",
    "\n",
    "my_tuple = (2, 4, 6, 8, 10)\n",
    "index_of_4 = my_tuple.index(4)\n",
    "print(index_of_4)"
   ]
  },
  {
   "cell_type": "code",
   "execution_count": 17,
   "id": "7033d020",
   "metadata": {},
   "outputs": [
    {
     "name": "stdout",
     "output_type": "stream",
     "text": [
      "2\n"
     ]
    }
   ],
   "source": [
    "#count() - Returns the number of occurrences of a value in an object eg list, tuple.\n",
    "\n",
    "# Example code\n",
    "\n",
    "my_tuple = (2, 4, 6, 8, 10, 4)\n",
    "count_of_4 = my_tuple.count(4)\n",
    "print(count_of_4)"
   ]
  },
  {
   "cell_type": "code",
   "execution_count": 11,
   "id": "f38655fb",
   "metadata": {},
   "outputs": [
    {
     "name": "stdout",
     "output_type": "stream",
     "text": [
      "4\n"
     ]
    }
   ],
   "source": [
    "#len() - Returns the length of an object eg tuple, list.\n",
    "\n",
    "#Example code\n",
    "\n",
    "my_tuple = (10, 20, 30, 40)\n",
    "length = len(my_tuple)\n",
    "print(length)  "
   ]
  },
  {
   "cell_type": "code",
   "execution_count": 18,
   "id": "ea07c6fd",
   "metadata": {},
   "outputs": [
    {
     "name": "stdout",
     "output_type": "stream",
     "text": [
      "31\n"
     ]
    }
   ],
   "source": [
    "# get() - Returns the value for a specified key, or a default value if the key is not present.\n",
    "\n",
    "#example code\n",
    "\n",
    "my_dict = {'name': 'Ada', 'age': 31}\n",
    "age = my_dict.get('age', 0)\n",
    "print(age)  "
   ]
  },
  {
   "cell_type": "code",
   "execution_count": 19,
   "id": "acb3543e",
   "metadata": {},
   "outputs": [
    {
     "name": "stdout",
     "output_type": "stream",
     "text": [
      "['name', 'age']\n"
     ]
    }
   ],
   "source": [
    "# keys() - Returns a list of all keys in the dictionary.\n",
    "\n",
    "#example code\n",
    "\n",
    "my_dict = {'name': 'Ada', 'age': 21}\n",
    "keys_list = list(my_dict.keys())\n",
    "print(keys_list)  "
   ]
  },
  {
   "cell_type": "code",
   "execution_count": 20,
   "id": "a3a2758b",
   "metadata": {},
   "outputs": [
    {
     "name": "stdout",
     "output_type": "stream",
     "text": [
      "['Ada', 31]\n"
     ]
    }
   ],
   "source": [
    "# values() - Returns a list of all values in the dictionary.\n",
    "\n",
    "#example code\n",
    "\n",
    "my_dict = {'name': 'Ada', 'age': 31}\n",
    "values_list = list(my_dict.values())\n",
    "print(values_list)  "
   ]
  },
  {
   "cell_type": "code",
   "execution_count": 21,
   "id": "3ad72d2d",
   "metadata": {},
   "outputs": [
    {
     "name": "stdout",
     "output_type": "stream",
     "text": [
      "[('name', 'Ada'), ('age', 31)]\n"
     ]
    }
   ],
   "source": [
    "# items() - Returns a list of key-value pairs (tuples) in the dictionary.\n",
    "\n",
    "#example code\n",
    "\n",
    "my_dict = {'name': 'Ada', 'age': 31}\n",
    "items_list = list(my_dict.items())\n",
    "print(items_list)"
   ]
  },
  {
   "cell_type": "code",
   "execution_count": 22,
   "id": "d732a46b",
   "metadata": {},
   "outputs": [
    {
     "name": "stdout",
     "output_type": "stream",
     "text": [
      "TECHNOLOGY\n"
     ]
    }
   ],
   "source": [
    "#upper() - Converts the string to uppercase.\n",
    "\n",
    "#example code\n",
    "\n",
    "word = 'technology'\n",
    "upper_word = word.upper()\n",
    "print(upper_word)  "
   ]
  },
  {
   "cell_type": "code",
   "execution_count": 23,
   "id": "d2550000",
   "metadata": {},
   "outputs": [
    {
     "name": "stdout",
     "output_type": "stream",
     "text": [
      "technology\n"
     ]
    }
   ],
   "source": [
    "#lower() - Converts the string to lowercase.\n",
    "\n",
    "#example code\n",
    "\n",
    "word = 'TECHNOLOGY'\n",
    "lower_word = word.lower()\n",
    "print(lower_word)  "
   ]
  },
  {
   "cell_type": "code",
   "execution_count": 24,
   "id": "72897260",
   "metadata": {},
   "outputs": [
    {
     "name": "stdout",
     "output_type": "stream",
     "text": [
      "Ndewo, World!\n"
     ]
    }
   ],
   "source": [
    "#replace() - Replaces occurrences of a substring with another substring.\n",
    "\n",
    "#example code\n",
    "\n",
    "sentence = 'Hello, World!'\n",
    "new_sentence = sentence.replace('Hello', 'Ndewo')\n",
    "print(new_sentence)  "
   ]
  },
  {
   "cell_type": "code",
   "execution_count": 25,
   "id": "f5fc3838",
   "metadata": {},
   "outputs": [
    {
     "name": "stdout",
     "output_type": "stream",
     "text": [
      "{1, 2, 3, 4}\n"
     ]
    }
   ],
   "source": [
    "#add() - Adds an element to the set.\n",
    "\n",
    "#example code\n",
    "\n",
    "my_set = {1, 2, 3}\n",
    "my_set.add(4)\n",
    "print(my_set)  "
   ]
  },
  {
   "cell_type": "code",
   "execution_count": 26,
   "id": "1be63b7f",
   "metadata": {},
   "outputs": [
    {
     "name": "stdout",
     "output_type": "stream",
     "text": [
      "{1, 2, 4}\n"
     ]
    }
   ],
   "source": [
    "#remove() - Removes a specified element from the set.\n",
    "\n",
    "#example code\n",
    "\n",
    "my_set = {1, 2, 3, 4}\n",
    "my_set.remove(3)\n",
    "print(my_set)  "
   ]
  },
  {
   "cell_type": "code",
   "execution_count": 27,
   "id": "f16cbd12",
   "metadata": {},
   "outputs": [
    {
     "name": "stdout",
     "output_type": "stream",
     "text": [
      "{'name': 'Ada', 'age': 26, 'city': 'Makurdi'}\n"
     ]
    }
   ],
   "source": [
    "#update(other_dict) - Updates the dictionary with elements from another dictionary or from an iterable of key-value pairs.\n",
    "\n",
    "#example code\n",
    "\n",
    "my_dict = {'name': 'Ada', 'age': 25}\n",
    "my_dict.update({'city': 'Makurdi', 'age': 26})\n",
    "print(my_dict)"
   ]
  },
  {
   "cell_type": "code",
   "execution_count": 29,
   "id": "7c9f4d13",
   "metadata": {},
   "outputs": [],
   "source": [
    "#clear() - Removes all items from the dictionary.\n",
    "\n",
    "#example code\n",
    "\n",
    "my_dict = {'name': 'Alice', 'age': 25}\n",
    "my_dict.clear()"
   ]
  },
  {
   "cell_type": "code",
   "execution_count": null,
   "id": "dfcb8e4f",
   "metadata": {},
   "outputs": [],
   "source": []
  }
 ],
 "metadata": {
  "kernelspec": {
   "display_name": "Python 3 (ipykernel)",
   "language": "python",
   "name": "python3"
  },
  "language_info": {
   "codemirror_mode": {
    "name": "ipython",
    "version": 3
   },
   "file_extension": ".py",
   "mimetype": "text/x-python",
   "name": "python",
   "nbconvert_exporter": "python",
   "pygments_lexer": "ipython3",
   "version": "3.11.5"
  }
 },
 "nbformat": 4,
 "nbformat_minor": 5
}
